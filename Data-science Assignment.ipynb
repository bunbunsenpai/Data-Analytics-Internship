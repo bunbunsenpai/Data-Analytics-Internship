{
  "nbformat": 4,
  "nbformat_minor": 0,
  "metadata": {
    "colab": {
      "provenance": [],
      "authorship_tag": "ABX9TyPw5AUuiyeuTV+fs8AxvCZs",
      "include_colab_link": true
    },
    "kernelspec": {
      "name": "python3",
      "display_name": "Python 3"
    },
    "language_info": {
      "name": "python"
    }
  },
  "cells": [
    {
      "cell_type": "markdown",
      "metadata": {
        "id": "view-in-github",
        "colab_type": "text"
      },
      "source": [
        "<a href=\"https://colab.research.google.com/github/bunbunsenpai/Data-Analytics-Internship/blob/main/Data-science%20Assignment.ipynb\" target=\"_parent\"><img src=\"https://colab.research.google.com/assets/colab-badge.svg\" alt=\"Open In Colab\"/></a>"
      ]
    },
    {
      "cell_type": "markdown",
      "source": [
        "\n",
        "# Programmer : Gaurav Singh\n",
        "# College : Keystone School Of Engineering\n",
        "# Class : TE (B)\n",
        "# Roll No :  38"
      ],
      "metadata": {
        "id": "T27HKPDIwe-o"
      }
    },
    {
      "cell_type": "code",
      "execution_count": 7,
      "metadata": {
        "id": "NVhk_thNrMq6"
      },
      "outputs": [],
      "source": [
        "import pandas as pd\n",
        "import matplotlib.pyplot as plt\n",
        "\n",
        "df = pd.read_csv('netflix_titles.csv')\n"
      ]
    },
    {
      "cell_type": "markdown",
      "source": [
        "Print the names of all TV shows released in 2020\n"
      ],
      "metadata": {
        "id": "yS3B9B5Ash8M"
      }
    },
    {
      "cell_type": "code",
      "source": [
        "tv_shows_2020 = df[(df['type'] == 'TV Show') & (df['release_year'] == 2020)]\n",
        "print(tv_shows_2020['title'])\n"
      ],
      "metadata": {
        "colab": {
          "base_uri": "https://localhost:8080/"
        },
        "id": "MU-Gxh-rsgE0",
        "outputId": "2cbc5ae7-56d5-4fd5-e24d-e08740aa3ef2"
      },
      "execution_count": 8,
      "outputs": [
        {
          "output_type": "stream",
          "name": "stdout",
          "text": [
            "0                                        3%\n",
            "24      ​SAINT SEIYA: Knights of the Zodiac\n",
            "26                                 (Un)Well\n",
            "29                                 #blackAF\n",
            "53                               100 Humans\n",
            "                       ...                 \n",
            "7663                           Workin' Moms\n",
            "7670                    World's Most Wanted\n",
            "7720                   YooHoo to the Rescue\n",
            "7725                        You Cannot Hide\n",
            "7738                        Young Wallander\n",
            "Name: title, Length: 457, dtype: object\n"
          ]
        }
      ]
    },
    {
      "cell_type": "markdown",
      "source": [
        "Sort and print the names of movies in the \"Horror Movies\" category\n"
      ],
      "metadata": {
        "id": "nbOlYOJYtfU_"
      }
    },
    {
      "cell_type": "code",
      "source": [
        "horror_movies_sorted = df[(df['type'] == 'Movie') & (df['listed_in'].str.contains('Horror', na=False))]['title'].sort_values()\n",
        "print(horror_movies_sorted)"
      ],
      "metadata": {
        "colab": {
          "base_uri": "https://localhost:8080/"
        },
        "id": "xNxJPinZszHm",
        "outputId": "708da208-240f-4e81-a494-5663ef7f4f5f"
      },
      "execution_count": 9,
      "outputs": [
        {
          "output_type": "stream",
          "name": "stdout",
          "text": [
            "27                #Alive\n",
            "6                    122\n",
            "62            13 Cameras\n",
            "65               13 Sins\n",
            "69            14 Cameras\n",
            "              ...       \n",
            "7673    Would You Rather\n",
            "7687                  XX\n",
            "7714         Yoga Hosers\n",
            "7778          Zombieland\n",
            "41            Ég man þig\n",
            "Name: title, Length: 312, dtype: object\n"
          ]
        }
      ]
    },
    {
      "cell_type": "markdown",
      "source": [
        "Count the number of documentaries\n"
      ],
      "metadata": {
        "id": "rJPcubTltj0Y"
      }
    },
    {
      "cell_type": "code",
      "source": [
        "documentaries_count = df[df['listed_in'].str.contains('Documentaries', na=False)].shape[0]\n",
        "print(documentaries_count)\n"
      ],
      "metadata": {
        "colab": {
          "base_uri": "https://localhost:8080/"
        },
        "id": "gAliH8XdtIxk",
        "outputId": "80f2c710-125d-45ff-e71f-4c81a11c20d7"
      },
      "execution_count": 10,
      "outputs": [
        {
          "output_type": "stream",
          "name": "stdout",
          "text": [
            "786\n"
          ]
        }
      ]
    },
    {
      "cell_type": "markdown",
      "source": [
        "Print the titles and release years of movies directed by Christopher Nolan\n"
      ],
      "metadata": {
        "id": "IjrBjNmrtrnM"
      }
    },
    {
      "cell_type": "code",
      "source": [
        "nolan_movies = df[(df['director'] == 'Christopher Nolan') & (df['type'] == 'Movie')]\n",
        "print(nolan_movies[['title', 'release_year']])\n"
      ],
      "metadata": {
        "colab": {
          "base_uri": "https://localhost:8080/"
        },
        "id": "F4eOidhZtmn8",
        "outputId": "59779eb4-d205-419d-a0f5-cb02c56c63ae"
      },
      "execution_count": 11,
      "outputs": [
        {
          "output_type": "stream",
          "name": "stdout",
          "text": [
            "          title  release_year\n",
            "2979  Inception          2010\n"
          ]
        }
      ]
    },
    {
      "cell_type": "markdown",
      "source": [
        "Count movies with a runtime less than 60 minutes\n"
      ],
      "metadata": {
        "id": "rDNC2smet1Nh"
      }
    },
    {
      "cell_type": "code",
      "source": [
        "df['duration_min'] = df['duration'].str.extract('(\\d+)').astype(int)\n",
        "short_movies_count = df[(df['type'] == 'Movie') & (df['duration_min'] < 60)].shape[0]\n",
        "print(short_movies_count)\n"
      ],
      "metadata": {
        "colab": {
          "base_uri": "https://localhost:8080/"
        },
        "id": "ieHWBBgUttx4",
        "outputId": "9edfabd9-9c6e-428f-f050-715092cf0169"
      },
      "execution_count": 12,
      "outputs": [
        {
          "output_type": "stream",
          "name": "stdout",
          "text": [
            "420\n"
          ]
        }
      ]
    },
    {
      "cell_type": "markdown",
      "source": [
        "Count TV shows with more than 5 seasons\n"
      ],
      "metadata": {
        "id": "poEMt7fJt_dc"
      }
    },
    {
      "cell_type": "code",
      "source": [
        "df['seasons_count'] = df['duration'].str.extract('(\\d+)').astype(float)\n",
        "five_seasons = df[(df['type'] == 'TV Show') & (df['seasons_count'] > 5)].shape[0]\n",
        "print(five_seasons)\n"
      ],
      "metadata": {
        "colab": {
          "base_uri": "https://localhost:8080/"
        },
        "id": "DStw9hXquBLl",
        "outputId": "1f41d739-81cb-419a-dc42-600a37bf0b2a"
      },
      "execution_count": 15,
      "outputs": [
        {
          "output_type": "stream",
          "name": "stdout",
          "text": [
            "91\n"
          ]
        }
      ]
    },
    {
      "cell_type": "markdown",
      "source": [
        "Print the names of TV shows with the word \"Detective\" in their title\n"
      ],
      "metadata": {
        "id": "fnfTt5ULuV4e"
      }
    },
    {
      "cell_type": "code",
      "source": [
        "detective_shows = df[(df['type'] == 'TV Show') & (df['title'].str.contains('Detective', na=False))]\n",
        "print(detective_shows['title'])\n"
      ],
      "metadata": {
        "colab": {
          "base_uri": "https://localhost:8080/"
        },
        "id": "kjAwpZdnuWDW",
        "outputId": "d5760b7c-3bca-433d-b995-4865ed43ed20"
      },
      "execution_count": 16,
      "outputs": [
        {
          "output_type": "stream",
          "name": "stdout",
          "text": [
            "4504    Noddy Toyland Detective\n",
            "6403         The Good Detective\n",
            "6488       The Indian Detective\n",
            "6693      The Murder Detectives\n",
            "7206       Treehouse Detectives\n",
            "Name: title, dtype: object\n"
          ]
        }
      ]
    },
    {
      "cell_type": "markdown",
      "source": [
        "Print the names of movies with the lowest and highest IMDb ratings\n"
      ],
      "metadata": {
        "id": "JmrNF2OjuZRv"
      }
    },
    {
      "cell_type": "code",
      "source": [
        "#Coloumn Not Given In Dataset"
      ],
      "metadata": {
        "id": "zZfg4Kt0uCxI"
      },
      "execution_count": 17,
      "outputs": []
    },
    {
      "cell_type": "markdown",
      "source": [
        "Find information about the oldest and newest releases\n"
      ],
      "metadata": {
        "id": "TjkjrPsdulXL"
      }
    },
    {
      "cell_type": "code",
      "source": [
        "oldest = df[df['release_year'] == df['release_year'].min()]\n",
        "newest = df[df['release_year'] == df['release_year'].max()]\n",
        "print('Oldest:', oldest[['title', 'release_year']])\n",
        "print('Newest:', newest[['title', 'release_year']])\n"
      ],
      "metadata": {
        "colab": {
          "base_uri": "https://localhost:8080/"
        },
        "id": "wVy4_avquk84",
        "outputId": "1380de22-4db7-401d-e6a2-480f64b76014"
      },
      "execution_count": 18,
      "outputs": [
        {
          "output_type": "stream",
          "name": "stdout",
          "text": [
            "Oldest:                                   title  release_year\n",
            "4867  Pioneers: First Women Filmmakers*          1925\n",
            "Newest:                                                   title  release_year\n",
            "980                                        Bling Empire          2021\n",
            "1222                                    Carmen Sandiego          2021\n",
            "1285                                           Charming          2021\n",
            "1355  Chris Rock Total Blackout: The Tamborine Exten...          2021\n",
            "1440                                          Cobra Kai          2021\n",
            "1514            Crack: Cocaine, Corruption & Conspiracy          2021\n",
            "1528                        Creating The Queen's Gambit          2021\n",
            "1780                                     Disenchantment          2021\n",
            "1864                                Dream Home Makeover          2021\n",
            "2327                                  Gabby's Dollhouse          2021\n",
            "2672                      Headspace Guide to Meditation          2021\n",
            "2741                                              Hilda          2021\n",
            "2753                             History of Swear Words          2021\n",
            "3018                Inside the World’s Toughest Prisons          2021\n",
            "3822                                              Lupin          2021\n",
            "4086                 Mighty Little Bheem: Kite Festival          2021\n",
            "4173                                            Monarca          2021\n",
            "4390                                  Nailed It! Mexico          2021\n",
            "4468        Night Stalker: The Hunt for a Serial Killer          2021\n",
            "4710                                   Outside the Wire          2021\n",
            "4965                                Pretend It’s a City          2021\n",
            "5103  Ratones Paranoicos: The Band that Rocked Argen...          2021\n",
            "5859                                        Stuck Apart          2021\n",
            "5921                                    Surviving Death          2021\n",
            "6477                               The Idhun Chronicles          2021\n",
            "6670                       The Minimalists: Less Is Now          2021\n",
            "6701                             The Netflix Afterparty          2021\n",
            "7220                      Tribhanga - Tedhi Medhi Crazy          2021\n",
            "7551                          What Happened to Mr. Cha?          2021\n",
            "7569                        What Would Sophia Loren Do?          2021\n",
            "7644                                           Wish You          2021\n"
          ]
        }
      ]
    },
    {
      "cell_type": "markdown",
      "source": [
        "Plot the distribution of movies and TV shows by release year\n"
      ],
      "metadata": {
        "id": "yzZqx1cTvDFT"
      }
    },
    {
      "cell_type": "code",
      "source": [
        "plt.figure(figsize=(30, 20))\n",
        "df['release_year'].hist(by=df['type'], bins=range(1980, 2022), alpha=0.7, edgecolor='black')\n",
        "plt.suptitle('Distribution of Movies and TV Shows by Release Year', fontsize=16)\n",
        "plt.xlabel('Release Year', fontsize=14)\n",
        "plt.ylabel('Count', fontsize=14)\n",
        "plt.xticks(fontsize=12)\n",
        "plt.yticks(fontsize=12)\n",
        "plt.grid(True)\n",
        "plt.show()"
      ],
      "metadata": {
        "colab": {
          "base_uri": "https://localhost:8080/",
          "height": 529
        },
        "id": "SEBCvib9vAj7",
        "outputId": "64fb5ab7-77f7-4fed-dee7-30d8fcc85184"
      },
      "execution_count": 28,
      "outputs": [
        {
          "output_type": "display_data",
          "data": {
            "text/plain": [
              "<Figure size 3000x2000 with 0 Axes>"
            ]
          },
          "metadata": {}
        },
        {
          "output_type": "display_data",
          "data": {
            "text/plain": [
              "<Figure size 640x480 with 2 Axes>"
            ],
            "image/png": "[encoded data removed]"
          },
          "metadata": {}
        }
      ]
    },
    {
      "cell_type": "code",
      "source": [],
      "metadata": {
        "id": "ApB9sqU1vFNQ"
      },
      "execution_count": null,
      "outputs": []
    }
  ]
}